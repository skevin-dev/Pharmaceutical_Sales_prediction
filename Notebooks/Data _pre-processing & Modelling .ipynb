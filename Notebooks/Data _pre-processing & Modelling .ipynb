{
 "cells": [
  {
   "cell_type": "code",
   "execution_count": 1,
   "id": "5bcfa15e",
   "metadata": {},
   "outputs": [],
   "source": [
    "import warnings\n",
    "import pandas as pd \n",
    "import numpy as np\n",
    "import seaborn as sns\n",
    "import matplotlib.pyplot as plt \n",
    "import sys\n",
    "sys.path.append(\"..\")\n",
    "warnings.simplefilter(\"ignore\")\n",
    "from Scripts.Data_cleaning import load_data,clean_data\n",
    "from Scripts.preprocessing import preprocess\n",
    "from Scripts.modelling import modeler\n",
    "from sklearn.ensemble import RandomForestRegressor\n",
    "from sklearn.ensemble import GradientBoostingRegressor\n",
    "from sklearn.metrics import log_loss\n",
    "from sklearn.pipeline import Pipeline\n",
    "from sklearn.impute import SimpleImputer\n",
    "from sklearn.preprocessing import StandardScaler\n",
    "from sklearn.metrics import mean_squared_error, mean_absolute_error, r2_score\n",
    "from datetime import datetime\n",
    "import pickle\n",
    "import mlflow \n",
    "import mlflow.sklearn "
   ]
  },
  {
   "cell_type": "markdown",
   "id": "e41df220",
   "metadata": {},
   "source": [
    "It is important to process the data into a format where it can be fed to a machine learning model. This typically means converting all non-numeric columns to numeric, handling NaN values and generating new features from already existing features. "
   ]
  },
  {
   "cell_type": "markdown",
   "id": "262c8478",
   "metadata": {},
   "source": [
    "###### Load datasets "
   ]
  },
  {
   "cell_type": "code",
   "execution_count": 2,
   "id": "dd61f7cf",
   "metadata": {},
   "outputs": [],
   "source": [
    "train_df = load_data('../data/train-data.csv')\n",
    "test_df = load_data('../data/test-data.csv')"
   ]
  },
  {
   "cell_type": "markdown",
   "id": "e825e33d",
   "metadata": {},
   "source": [
    "###### missing values "
   ]
  },
  {
   "cell_type": "code",
   "execution_count": 3,
   "id": "5606a3a0",
   "metadata": {},
   "outputs": [
    {
     "data": {
      "text/plain": [
       "Store                        0\n",
       "StoreType                    0\n",
       "Assortment                   0\n",
       "CompetitionDistance          0\n",
       "CompetitionOpenSinceMonth    0\n",
       "CompetitionOpenSinceYear     0\n",
       "Promo2                       0\n",
       "Promo2SinceWeek              0\n",
       "Promo2SinceYear              0\n",
       "PromoInterval                0\n",
       "DayOfWeek                    0\n",
       "Date                         0\n",
       "Sales                        0\n",
       "Customers                    0\n",
       "Open                         0\n",
       "Promo                        0\n",
       "StateHoliday                 0\n",
       "SchoolHoliday                0\n",
       "Days                         0\n",
       "months                       0\n",
       "Years                        0\n",
       "DayOfYear                    0\n",
       "WeekOfYear                   0\n",
       "dtype: int64"
      ]
     },
     "execution_count": 3,
     "metadata": {},
     "output_type": "execute_result"
    }
   ],
   "source": [
    "train_df.isna().sum()"
   ]
  },
  {
   "cell_type": "code",
   "execution_count": 4,
   "id": "2773a067",
   "metadata": {},
   "outputs": [
    {
     "name": "stdout",
     "output_type": "stream",
     "text": [
      "<class 'pandas.core.frame.DataFrame'>\n",
      "RangeIndex: 1014567 entries, 0 to 1014566\n",
      "Data columns (total 23 columns):\n",
      " #   Column                     Non-Null Count    Dtype  \n",
      "---  ------                     --------------    -----  \n",
      " 0   Store                      1014567 non-null  int64  \n",
      " 1   StoreType                  1014567 non-null  object \n",
      " 2   Assortment                 1014567 non-null  object \n",
      " 3   CompetitionDistance        1014567 non-null  float64\n",
      " 4   CompetitionOpenSinceMonth  1014567 non-null  int64  \n",
      " 5   CompetitionOpenSinceYear   1014567 non-null  int64  \n",
      " 6   Promo2                     1014567 non-null  int64  \n",
      " 7   Promo2SinceWeek            1014567 non-null  int64  \n",
      " 8   Promo2SinceYear            1014567 non-null  int64  \n",
      " 9   PromoInterval              1014567 non-null  object \n",
      " 10  DayOfWeek                  1014567 non-null  int64  \n",
      " 11  Date                       1014567 non-null  object \n",
      " 12  Sales                      1014567 non-null  float64\n",
      " 13  Customers                  1014567 non-null  float64\n",
      " 14  Open                       1014567 non-null  int64  \n",
      " 15  Promo                      1014567 non-null  int64  \n",
      " 16  StateHoliday               1014567 non-null  object \n",
      " 17  SchoolHoliday              1014567 non-null  int64  \n",
      " 18  Days                       1014567 non-null  int64  \n",
      " 19  months                     1014567 non-null  int64  \n",
      " 20  Years                      1014567 non-null  int64  \n",
      " 21  DayOfYear                  1014567 non-null  int64  \n",
      " 22  WeekOfYear                 1014567 non-null  int64  \n",
      "dtypes: float64(3), int64(15), object(5)\n",
      "memory usage: 178.0+ MB\n"
     ]
    }
   ],
   "source": [
    "train_df.info()"
   ]
  },
  {
   "cell_type": "code",
   "execution_count": 5,
   "id": "7f4cb718",
   "metadata": {},
   "outputs": [
    {
     "data": {
      "text/plain": [
       "Store                        0\n",
       "StoreType                    0\n",
       "Assortment                   0\n",
       "CompetitionDistance          0\n",
       "CompetitionOpenSinceMonth    0\n",
       "CompetitionOpenSinceYear     0\n",
       "Promo2                       0\n",
       "Promo2SinceWeek              0\n",
       "Promo2SinceYear              0\n",
       "PromoInterval                0\n",
       "Id                           0\n",
       "DayOfWeek                    0\n",
       "Date                         0\n",
       "Open                         0\n",
       "Promo                        0\n",
       "StateHoliday                 0\n",
       "SchoolHoliday                0\n",
       "Days                         0\n",
       "months                       0\n",
       "Years                        0\n",
       "DayOfYear                    0\n",
       "WeekOfYear                   0\n",
       "dtype: int64"
      ]
     },
     "execution_count": 5,
     "metadata": {},
     "output_type": "execute_result"
    }
   ],
   "source": [
    "test_df.isna().sum()"
   ]
  },
  {
   "cell_type": "markdown",
   "id": "8e089854",
   "metadata": {},
   "source": [
    "##### converting date column to datetime "
   ]
  },
  {
   "cell_type": "code",
   "execution_count": 6,
   "id": "b9f80071",
   "metadata": {},
   "outputs": [],
   "source": [
    "c = clean_data(train_df)\n",
    "c.convert_to_datetime(train_df,['Date'])"
   ]
  },
  {
   "cell_type": "code",
   "execution_count": 7,
   "id": "bb5cc406",
   "metadata": {},
   "outputs": [],
   "source": [
    "d = clean_data(test_df)\n",
    "d.convert_to_datetime(test_df,['Date'])"
   ]
  },
  {
   "cell_type": "markdown",
   "id": "b63aaecd",
   "metadata": {},
   "source": [
    "###### convert to int "
   ]
  },
  {
   "cell_type": "code",
   "execution_count": 8,
   "id": "8780e1c7",
   "metadata": {},
   "outputs": [],
   "source": [
    "clean_data(test_df).convert_to_int(test_df,['Days','months','Years','DayOfYear','WeekOfYear'])"
   ]
  },
  {
   "cell_type": "markdown",
   "id": "430ac69a",
   "metadata": {},
   "source": [
    "###### converting non-numeric to numeric"
   ]
  },
  {
   "cell_type": "code",
   "execution_count": 9,
   "id": "359c998c",
   "metadata": {},
   "outputs": [],
   "source": [
    "r = preprocess(train_df)\n",
    "r.label_encoder(train_df)"
   ]
  },
  {
   "cell_type": "code",
   "execution_count": 10,
   "id": "f35daf2d",
   "metadata": {},
   "outputs": [
    {
     "data": {
      "text/plain": [
       "False"
      ]
     },
     "execution_count": 10,
     "metadata": {},
     "output_type": "execute_result"
    }
   ],
   "source": [
    "train_df.info == 'object'"
   ]
  },
  {
   "cell_type": "code",
   "execution_count": 11,
   "id": "51a9d546",
   "metadata": {},
   "outputs": [
    {
     "data": {
      "text/plain": [
       "array([0, 1, 2, 3], dtype=int64)"
      ]
     },
     "execution_count": 11,
     "metadata": {},
     "output_type": "execute_result"
    }
   ],
   "source": [
    "train_df['StoreType'].unique()"
   ]
  },
  {
   "cell_type": "markdown",
   "id": "9c191723",
   "metadata": {},
   "source": [
    "all columns in train data have been converted to numeric "
   ]
  },
  {
   "cell_type": "code",
   "execution_count": 12,
   "id": "68f1636d",
   "metadata": {},
   "outputs": [],
   "source": [
    "t = preprocess(test_df)\n",
    "t.label_encoder(test_df)"
   ]
  },
  {
   "cell_type": "code",
   "execution_count": 13,
   "id": "62fa9a70",
   "metadata": {},
   "outputs": [
    {
     "data": {
      "text/plain": [
       "False"
      ]
     },
     "execution_count": 13,
     "metadata": {},
     "output_type": "execute_result"
    }
   ],
   "source": [
    "test_df.info == 'object'"
   ]
  },
  {
   "cell_type": "markdown",
   "id": "27cbd6cd",
   "metadata": {},
   "source": [
    "all columns in test data have been converted to numeric "
   ]
  },
  {
   "cell_type": "markdown",
   "id": "d85f9ba4",
   "metadata": {},
   "source": [
    "###### feature engineering "
   ]
  },
  {
   "cell_type": "code",
   "execution_count": 14,
   "id": "f8591e48",
   "metadata": {},
   "outputs": [],
   "source": [
    "def feat_eng(df):\n",
    "    df['weekends'] = (df['DayOfWeek']//5 ==1).astype(int)\n",
    "    df['weekdays'] = (df['DayOfWeek']//5 !=1).astype(int)"
   ]
  },
  {
   "cell_type": "code",
   "execution_count": 15,
   "id": "dc30eb19",
   "metadata": {},
   "outputs": [],
   "source": [
    "feat_eng(train_df)\n",
    "feat_eng(test_df)"
   ]
  },
  {
   "cell_type": "code",
   "execution_count": 16,
   "id": "2b3c486f",
   "metadata": {},
   "outputs": [
    {
     "data": {
      "text/html": [
       "<div>\n",
       "<style scoped>\n",
       "    .dataframe tbody tr th:only-of-type {\n",
       "        vertical-align: middle;\n",
       "    }\n",
       "\n",
       "    .dataframe tbody tr th {\n",
       "        vertical-align: top;\n",
       "    }\n",
       "\n",
       "    .dataframe thead th {\n",
       "        text-align: right;\n",
       "    }\n",
       "</style>\n",
       "<table border=\"1\" class=\"dataframe\">\n",
       "  <thead>\n",
       "    <tr style=\"text-align: right;\">\n",
       "      <th></th>\n",
       "      <th>Store</th>\n",
       "      <th>StoreType</th>\n",
       "      <th>Assortment</th>\n",
       "      <th>CompetitionDistance</th>\n",
       "      <th>CompetitionOpenSinceMonth</th>\n",
       "      <th>CompetitionOpenSinceYear</th>\n",
       "      <th>Promo2</th>\n",
       "      <th>Promo2SinceWeek</th>\n",
       "      <th>Promo2SinceYear</th>\n",
       "      <th>PromoInterval</th>\n",
       "      <th>...</th>\n",
       "      <th>Promo</th>\n",
       "      <th>StateHoliday</th>\n",
       "      <th>SchoolHoliday</th>\n",
       "      <th>Days</th>\n",
       "      <th>months</th>\n",
       "      <th>Years</th>\n",
       "      <th>DayOfYear</th>\n",
       "      <th>WeekOfYear</th>\n",
       "      <th>weekends</th>\n",
       "      <th>weekdays</th>\n",
       "    </tr>\n",
       "  </thead>\n",
       "  <tbody>\n",
       "    <tr>\n",
       "      <th>0</th>\n",
       "      <td>1</td>\n",
       "      <td>0</td>\n",
       "      <td>0</td>\n",
       "      <td>1270.0</td>\n",
       "      <td>9</td>\n",
       "      <td>2008</td>\n",
       "      <td>0</td>\n",
       "      <td>0</td>\n",
       "      <td>0</td>\n",
       "      <td>0</td>\n",
       "      <td>...</td>\n",
       "      <td>1</td>\n",
       "      <td>0</td>\n",
       "      <td>1</td>\n",
       "      <td>31</td>\n",
       "      <td>7</td>\n",
       "      <td>2015</td>\n",
       "      <td>212</td>\n",
       "      <td>31</td>\n",
       "      <td>1</td>\n",
       "      <td>0</td>\n",
       "    </tr>\n",
       "    <tr>\n",
       "      <th>1</th>\n",
       "      <td>1</td>\n",
       "      <td>0</td>\n",
       "      <td>0</td>\n",
       "      <td>1270.0</td>\n",
       "      <td>9</td>\n",
       "      <td>2008</td>\n",
       "      <td>0</td>\n",
       "      <td>0</td>\n",
       "      <td>0</td>\n",
       "      <td>0</td>\n",
       "      <td>...</td>\n",
       "      <td>1</td>\n",
       "      <td>0</td>\n",
       "      <td>1</td>\n",
       "      <td>30</td>\n",
       "      <td>7</td>\n",
       "      <td>2015</td>\n",
       "      <td>211</td>\n",
       "      <td>31</td>\n",
       "      <td>0</td>\n",
       "      <td>1</td>\n",
       "    </tr>\n",
       "    <tr>\n",
       "      <th>2</th>\n",
       "      <td>1</td>\n",
       "      <td>0</td>\n",
       "      <td>0</td>\n",
       "      <td>1270.0</td>\n",
       "      <td>9</td>\n",
       "      <td>2008</td>\n",
       "      <td>0</td>\n",
       "      <td>0</td>\n",
       "      <td>0</td>\n",
       "      <td>0</td>\n",
       "      <td>...</td>\n",
       "      <td>1</td>\n",
       "      <td>0</td>\n",
       "      <td>1</td>\n",
       "      <td>29</td>\n",
       "      <td>7</td>\n",
       "      <td>2015</td>\n",
       "      <td>210</td>\n",
       "      <td>31</td>\n",
       "      <td>0</td>\n",
       "      <td>1</td>\n",
       "    </tr>\n",
       "    <tr>\n",
       "      <th>3</th>\n",
       "      <td>1</td>\n",
       "      <td>0</td>\n",
       "      <td>0</td>\n",
       "      <td>1270.0</td>\n",
       "      <td>9</td>\n",
       "      <td>2008</td>\n",
       "      <td>0</td>\n",
       "      <td>0</td>\n",
       "      <td>0</td>\n",
       "      <td>0</td>\n",
       "      <td>...</td>\n",
       "      <td>1</td>\n",
       "      <td>0</td>\n",
       "      <td>1</td>\n",
       "      <td>28</td>\n",
       "      <td>7</td>\n",
       "      <td>2015</td>\n",
       "      <td>209</td>\n",
       "      <td>31</td>\n",
       "      <td>0</td>\n",
       "      <td>1</td>\n",
       "    </tr>\n",
       "    <tr>\n",
       "      <th>4</th>\n",
       "      <td>1</td>\n",
       "      <td>0</td>\n",
       "      <td>0</td>\n",
       "      <td>1270.0</td>\n",
       "      <td>9</td>\n",
       "      <td>2008</td>\n",
       "      <td>0</td>\n",
       "      <td>0</td>\n",
       "      <td>0</td>\n",
       "      <td>0</td>\n",
       "      <td>...</td>\n",
       "      <td>1</td>\n",
       "      <td>0</td>\n",
       "      <td>1</td>\n",
       "      <td>27</td>\n",
       "      <td>7</td>\n",
       "      <td>2015</td>\n",
       "      <td>208</td>\n",
       "      <td>31</td>\n",
       "      <td>0</td>\n",
       "      <td>1</td>\n",
       "    </tr>\n",
       "  </tbody>\n",
       "</table>\n",
       "<p>5 rows × 25 columns</p>\n",
       "</div>"
      ],
      "text/plain": [
       "   Store  StoreType  Assortment  CompetitionDistance  \\\n",
       "0      1          0           0               1270.0   \n",
       "1      1          0           0               1270.0   \n",
       "2      1          0           0               1270.0   \n",
       "3      1          0           0               1270.0   \n",
       "4      1          0           0               1270.0   \n",
       "\n",
       "   CompetitionOpenSinceMonth  CompetitionOpenSinceYear  Promo2  \\\n",
       "0                          9                      2008       0   \n",
       "1                          9                      2008       0   \n",
       "2                          9                      2008       0   \n",
       "3                          9                      2008       0   \n",
       "4                          9                      2008       0   \n",
       "\n",
       "   Promo2SinceWeek  Promo2SinceYear  PromoInterval  ...  Promo StateHoliday  \\\n",
       "0                0                0              0  ...      1            0   \n",
       "1                0                0              0  ...      1            0   \n",
       "2                0                0              0  ...      1            0   \n",
       "3                0                0              0  ...      1            0   \n",
       "4                0                0              0  ...      1            0   \n",
       "\n",
       "   SchoolHoliday  Days  months  Years  DayOfYear  WeekOfYear  weekends  \\\n",
       "0              1    31       7   2015        212          31         1   \n",
       "1              1    30       7   2015        211          31         0   \n",
       "2              1    29       7   2015        210          31         0   \n",
       "3              1    28       7   2015        209          31         0   \n",
       "4              1    27       7   2015        208          31         0   \n",
       "\n",
       "   weekdays  \n",
       "0         0  \n",
       "1         1  \n",
       "2         1  \n",
       "3         1  \n",
       "4         1  \n",
       "\n",
       "[5 rows x 25 columns]"
      ]
     },
     "execution_count": 16,
     "metadata": {},
     "output_type": "execute_result"
    }
   ],
   "source": [
    "train_df.head()"
   ]
  },
  {
   "cell_type": "code",
   "execution_count": 17,
   "id": "cb712e85",
   "metadata": {},
   "outputs": [
    {
     "data": {
      "text/html": [
       "<div>\n",
       "<style scoped>\n",
       "    .dataframe tbody tr th:only-of-type {\n",
       "        vertical-align: middle;\n",
       "    }\n",
       "\n",
       "    .dataframe tbody tr th {\n",
       "        vertical-align: top;\n",
       "    }\n",
       "\n",
       "    .dataframe thead th {\n",
       "        text-align: right;\n",
       "    }\n",
       "</style>\n",
       "<table border=\"1\" class=\"dataframe\">\n",
       "  <thead>\n",
       "    <tr style=\"text-align: right;\">\n",
       "      <th></th>\n",
       "      <th>Store</th>\n",
       "      <th>StoreType</th>\n",
       "      <th>Assortment</th>\n",
       "      <th>CompetitionDistance</th>\n",
       "      <th>CompetitionOpenSinceMonth</th>\n",
       "      <th>CompetitionOpenSinceYear</th>\n",
       "      <th>Promo2</th>\n",
       "      <th>Promo2SinceWeek</th>\n",
       "      <th>Promo2SinceYear</th>\n",
       "      <th>PromoInterval</th>\n",
       "      <th>...</th>\n",
       "      <th>Promo</th>\n",
       "      <th>StateHoliday</th>\n",
       "      <th>SchoolHoliday</th>\n",
       "      <th>Days</th>\n",
       "      <th>months</th>\n",
       "      <th>Years</th>\n",
       "      <th>DayOfYear</th>\n",
       "      <th>WeekOfYear</th>\n",
       "      <th>weekends</th>\n",
       "      <th>weekdays</th>\n",
       "    </tr>\n",
       "  </thead>\n",
       "  <tbody>\n",
       "    <tr>\n",
       "      <th>0</th>\n",
       "      <td>1</td>\n",
       "      <td>0</td>\n",
       "      <td>0</td>\n",
       "      <td>1270.0</td>\n",
       "      <td>9</td>\n",
       "      <td>2008</td>\n",
       "      <td>0</td>\n",
       "      <td>0</td>\n",
       "      <td>0</td>\n",
       "      <td>0</td>\n",
       "      <td>...</td>\n",
       "      <td>1.0</td>\n",
       "      <td>0</td>\n",
       "      <td>0.0</td>\n",
       "      <td>17</td>\n",
       "      <td>9</td>\n",
       "      <td>2015</td>\n",
       "      <td>260</td>\n",
       "      <td>38</td>\n",
       "      <td>0</td>\n",
       "      <td>1</td>\n",
       "    </tr>\n",
       "    <tr>\n",
       "      <th>1</th>\n",
       "      <td>1</td>\n",
       "      <td>0</td>\n",
       "      <td>0</td>\n",
       "      <td>1270.0</td>\n",
       "      <td>9</td>\n",
       "      <td>2008</td>\n",
       "      <td>0</td>\n",
       "      <td>0</td>\n",
       "      <td>0</td>\n",
       "      <td>0</td>\n",
       "      <td>...</td>\n",
       "      <td>1.0</td>\n",
       "      <td>0</td>\n",
       "      <td>0.0</td>\n",
       "      <td>16</td>\n",
       "      <td>9</td>\n",
       "      <td>2015</td>\n",
       "      <td>259</td>\n",
       "      <td>38</td>\n",
       "      <td>0</td>\n",
       "      <td>1</td>\n",
       "    </tr>\n",
       "    <tr>\n",
       "      <th>2</th>\n",
       "      <td>1</td>\n",
       "      <td>0</td>\n",
       "      <td>0</td>\n",
       "      <td>1270.0</td>\n",
       "      <td>9</td>\n",
       "      <td>2008</td>\n",
       "      <td>0</td>\n",
       "      <td>0</td>\n",
       "      <td>0</td>\n",
       "      <td>0</td>\n",
       "      <td>...</td>\n",
       "      <td>1.0</td>\n",
       "      <td>0</td>\n",
       "      <td>0.0</td>\n",
       "      <td>15</td>\n",
       "      <td>9</td>\n",
       "      <td>2015</td>\n",
       "      <td>258</td>\n",
       "      <td>38</td>\n",
       "      <td>0</td>\n",
       "      <td>1</td>\n",
       "    </tr>\n",
       "    <tr>\n",
       "      <th>3</th>\n",
       "      <td>1</td>\n",
       "      <td>0</td>\n",
       "      <td>0</td>\n",
       "      <td>1270.0</td>\n",
       "      <td>9</td>\n",
       "      <td>2008</td>\n",
       "      <td>0</td>\n",
       "      <td>0</td>\n",
       "      <td>0</td>\n",
       "      <td>0</td>\n",
       "      <td>...</td>\n",
       "      <td>1.0</td>\n",
       "      <td>0</td>\n",
       "      <td>0.0</td>\n",
       "      <td>14</td>\n",
       "      <td>9</td>\n",
       "      <td>2015</td>\n",
       "      <td>257</td>\n",
       "      <td>38</td>\n",
       "      <td>0</td>\n",
       "      <td>1</td>\n",
       "    </tr>\n",
       "    <tr>\n",
       "      <th>4</th>\n",
       "      <td>1</td>\n",
       "      <td>0</td>\n",
       "      <td>0</td>\n",
       "      <td>1270.0</td>\n",
       "      <td>9</td>\n",
       "      <td>2008</td>\n",
       "      <td>0</td>\n",
       "      <td>0</td>\n",
       "      <td>0</td>\n",
       "      <td>0</td>\n",
       "      <td>...</td>\n",
       "      <td>0.0</td>\n",
       "      <td>0</td>\n",
       "      <td>0.0</td>\n",
       "      <td>13</td>\n",
       "      <td>9</td>\n",
       "      <td>2015</td>\n",
       "      <td>256</td>\n",
       "      <td>37</td>\n",
       "      <td>1</td>\n",
       "      <td>0</td>\n",
       "    </tr>\n",
       "  </tbody>\n",
       "</table>\n",
       "<p>5 rows × 24 columns</p>\n",
       "</div>"
      ],
      "text/plain": [
       "   Store  StoreType  Assortment  CompetitionDistance  \\\n",
       "0      1          0           0               1270.0   \n",
       "1      1          0           0               1270.0   \n",
       "2      1          0           0               1270.0   \n",
       "3      1          0           0               1270.0   \n",
       "4      1          0           0               1270.0   \n",
       "\n",
       "   CompetitionOpenSinceMonth  CompetitionOpenSinceYear  Promo2  \\\n",
       "0                          9                      2008       0   \n",
       "1                          9                      2008       0   \n",
       "2                          9                      2008       0   \n",
       "3                          9                      2008       0   \n",
       "4                          9                      2008       0   \n",
       "\n",
       "   Promo2SinceWeek  Promo2SinceYear  PromoInterval  ...  Promo  StateHoliday  \\\n",
       "0                0                0              0  ...    1.0             0   \n",
       "1                0                0              0  ...    1.0             0   \n",
       "2                0                0              0  ...    1.0             0   \n",
       "3                0                0              0  ...    1.0             0   \n",
       "4                0                0              0  ...    0.0             0   \n",
       "\n",
       "  SchoolHoliday  Days  months  Years  DayOfYear  WeekOfYear  weekends  \\\n",
       "0           0.0    17       9   2015        260          38         0   \n",
       "1           0.0    16       9   2015        259          38         0   \n",
       "2           0.0    15       9   2015        258          38         0   \n",
       "3           0.0    14       9   2015        257          38         0   \n",
       "4           0.0    13       9   2015        256          37         1   \n",
       "\n",
       "   weekdays  \n",
       "0         1  \n",
       "1         1  \n",
       "2         1  \n",
       "3         1  \n",
       "4         0  \n",
       "\n",
       "[5 rows x 24 columns]"
      ]
     },
     "execution_count": 17,
     "metadata": {},
     "output_type": "execute_result"
    }
   ],
   "source": [
    "test_df.head()"
   ]
  },
  {
   "cell_type": "markdown",
   "id": "ef67fdfc",
   "metadata": {},
   "source": [
    "###### correlation analysis "
   ]
  },
  {
   "cell_type": "code",
   "execution_count": 18,
   "id": "f1507537",
   "metadata": {},
   "outputs": [
    {
     "data": {
      "image/png": "[encoded data removed]",
      "text/plain": [
       "<Figure size 720x576 with 2 Axes>"
      ]
     },
     "metadata": {},
     "output_type": "display_data"
    }
   ],
   "source": [
    "plt.figure(figsize=(10,8))\n",
    "sns.heatmap(train_df.corr()[['Sales']],annot=True);"
   ]
  },
  {
   "cell_type": "code",
   "execution_count": 19,
   "id": "8ceced37",
   "metadata": {},
   "outputs": [
    {
     "data": {
      "text/html": [
       "<div>\n",
       "<style scoped>\n",
       "    .dataframe tbody tr th:only-of-type {\n",
       "        vertical-align: middle;\n",
       "    }\n",
       "\n",
       "    .dataframe tbody tr th {\n",
       "        vertical-align: top;\n",
       "    }\n",
       "\n",
       "    .dataframe thead th {\n",
       "        text-align: right;\n",
       "    }\n",
       "</style>\n",
       "<table border=\"1\" class=\"dataframe\">\n",
       "  <thead>\n",
       "    <tr style=\"text-align: right;\">\n",
       "      <th></th>\n",
       "      <th>Sales</th>\n",
       "      <th>DayOfWeek</th>\n",
       "      <th>Customers</th>\n",
       "      <th>Open</th>\n",
       "      <th>Promo</th>\n",
       "      <th>StateHoliday</th>\n",
       "      <th>weekends</th>\n",
       "      <th>weekdays</th>\n",
       "    </tr>\n",
       "  </thead>\n",
       "  <tbody>\n",
       "    <tr>\n",
       "      <th>0</th>\n",
       "      <td>5263.0</td>\n",
       "      <td>5</td>\n",
       "      <td>555.0</td>\n",
       "      <td>1</td>\n",
       "      <td>1</td>\n",
       "      <td>0</td>\n",
       "      <td>1</td>\n",
       "      <td>0</td>\n",
       "    </tr>\n",
       "    <tr>\n",
       "      <th>1</th>\n",
       "      <td>5020.0</td>\n",
       "      <td>4</td>\n",
       "      <td>546.0</td>\n",
       "      <td>1</td>\n",
       "      <td>1</td>\n",
       "      <td>0</td>\n",
       "      <td>0</td>\n",
       "      <td>1</td>\n",
       "    </tr>\n",
       "    <tr>\n",
       "      <th>2</th>\n",
       "      <td>4782.0</td>\n",
       "      <td>3</td>\n",
       "      <td>523.0</td>\n",
       "      <td>1</td>\n",
       "      <td>1</td>\n",
       "      <td>0</td>\n",
       "      <td>0</td>\n",
       "      <td>1</td>\n",
       "    </tr>\n",
       "    <tr>\n",
       "      <th>3</th>\n",
       "      <td>5011.0</td>\n",
       "      <td>2</td>\n",
       "      <td>560.0</td>\n",
       "      <td>1</td>\n",
       "      <td>1</td>\n",
       "      <td>0</td>\n",
       "      <td>0</td>\n",
       "      <td>1</td>\n",
       "    </tr>\n",
       "    <tr>\n",
       "      <th>4</th>\n",
       "      <td>6102.0</td>\n",
       "      <td>1</td>\n",
       "      <td>612.0</td>\n",
       "      <td>1</td>\n",
       "      <td>1</td>\n",
       "      <td>0</td>\n",
       "      <td>0</td>\n",
       "      <td>1</td>\n",
       "    </tr>\n",
       "    <tr>\n",
       "      <th>...</th>\n",
       "      <td>...</td>\n",
       "      <td>...</td>\n",
       "      <td>...</td>\n",
       "      <td>...</td>\n",
       "      <td>...</td>\n",
       "      <td>...</td>\n",
       "      <td>...</td>\n",
       "      <td>...</td>\n",
       "    </tr>\n",
       "    <tr>\n",
       "      <th>1014562</th>\n",
       "      <td>4771.0</td>\n",
       "      <td>6</td>\n",
       "      <td>339.0</td>\n",
       "      <td>1</td>\n",
       "      <td>0</td>\n",
       "      <td>0</td>\n",
       "      <td>1</td>\n",
       "      <td>0</td>\n",
       "    </tr>\n",
       "    <tr>\n",
       "      <th>1014563</th>\n",
       "      <td>4540.0</td>\n",
       "      <td>5</td>\n",
       "      <td>326.0</td>\n",
       "      <td>1</td>\n",
       "      <td>0</td>\n",
       "      <td>0</td>\n",
       "      <td>1</td>\n",
       "      <td>0</td>\n",
       "    </tr>\n",
       "    <tr>\n",
       "      <th>1014564</th>\n",
       "      <td>4297.0</td>\n",
       "      <td>4</td>\n",
       "      <td>300.0</td>\n",
       "      <td>1</td>\n",
       "      <td>0</td>\n",
       "      <td>0</td>\n",
       "      <td>0</td>\n",
       "      <td>1</td>\n",
       "    </tr>\n",
       "    <tr>\n",
       "      <th>1014565</th>\n",
       "      <td>3697.0</td>\n",
       "      <td>3</td>\n",
       "      <td>305.0</td>\n",
       "      <td>1</td>\n",
       "      <td>0</td>\n",
       "      <td>0</td>\n",
       "      <td>0</td>\n",
       "      <td>1</td>\n",
       "    </tr>\n",
       "    <tr>\n",
       "      <th>1014566</th>\n",
       "      <td>0.0</td>\n",
       "      <td>2</td>\n",
       "      <td>0.0</td>\n",
       "      <td>0</td>\n",
       "      <td>0</td>\n",
       "      <td>1</td>\n",
       "      <td>0</td>\n",
       "      <td>1</td>\n",
       "    </tr>\n",
       "  </tbody>\n",
       "</table>\n",
       "<p>1014567 rows × 8 columns</p>\n",
       "</div>"
      ],
      "text/plain": [
       "          Sales  DayOfWeek  Customers  Open  Promo  StateHoliday  weekends  \\\n",
       "0        5263.0          5      555.0     1      1             0         1   \n",
       "1        5020.0          4      546.0     1      1             0         0   \n",
       "2        4782.0          3      523.0     1      1             0         0   \n",
       "3        5011.0          2      560.0     1      1             0         0   \n",
       "4        6102.0          1      612.0     1      1             0         0   \n",
       "...         ...        ...        ...   ...    ...           ...       ...   \n",
       "1014562  4771.0          6      339.0     1      0             0         1   \n",
       "1014563  4540.0          5      326.0     1      0             0         1   \n",
       "1014564  4297.0          4      300.0     1      0             0         0   \n",
       "1014565  3697.0          3      305.0     1      0             0         0   \n",
       "1014566     0.0          2        0.0     0      0             1         0   \n",
       "\n",
       "         weekdays  \n",
       "0               0  \n",
       "1               1  \n",
       "2               1  \n",
       "3               1  \n",
       "4               1  \n",
       "...           ...  \n",
       "1014562         0  \n",
       "1014563         0  \n",
       "1014564         1  \n",
       "1014565         1  \n",
       "1014566         1  \n",
       "\n",
       "[1014567 rows x 8 columns]"
      ]
     },
     "execution_count": 19,
     "metadata": {},
     "output_type": "execute_result"
    }
   ],
   "source": [
    "#select useful cols\n",
    "use_cols = ['Sales','DayOfWeek','Customers','Open','Promo','StateHoliday','weekends','weekdays']\n",
    "train_df_use_cols = train_df[use_cols]\n",
    "train_df_use_cols"
   ]
  },
  {
   "cell_type": "markdown",
   "id": "af7be8aa",
   "metadata": {},
   "source": [
    "###### feature scaling"
   ]
  },
  {
   "cell_type": "markdown",
   "id": "020b280b",
   "metadata": {},
   "source": [
    "datetime columns have to be ignored before doing feature scaling "
   ]
  },
  {
   "cell_type": "code",
   "execution_count": 20,
   "id": "b325cf94",
   "metadata": {},
   "outputs": [],
   "source": [
    "def separate_columns(df):\n",
    "    datetime_columm= ['DayOfWeek']\n",
    "    no_datetime = df.columns.difference(datetime_columm).tolist()\n",
    "    df_ = df[no_datetime] \n",
    "    return df_,datetime_columm"
   ]
  },
  {
   "cell_type": "code",
   "execution_count": 21,
   "id": "745855e3",
   "metadata": {},
   "outputs": [],
   "source": [
    "train_df_no_datetime = separate_columns(train_df_use_cols)[0]\n",
    "# test_df_no_datetime = separate_columns(test_df)[0]\n"
   ]
  },
  {
   "cell_type": "markdown",
   "id": "a208d292",
   "metadata": {},
   "source": [
    "###### scale data "
   ]
  },
  {
   "cell_type": "code",
   "execution_count": 22,
   "id": "288ca475",
   "metadata": {},
   "outputs": [],
   "source": [
    "r.scalling_data(train_df_no_datetime)\n",
    "# t.scalling_data(test_df_no_datetime)"
   ]
  },
  {
   "cell_type": "markdown",
   "id": "f16bb174",
   "metadata": {},
   "source": [
    "###### concat scaled data and unscaled data "
   ]
  },
  {
   "cell_type": "code",
   "execution_count": 23,
   "id": "a8be6d71",
   "metadata": {},
   "outputs": [
    {
     "data": {
      "text/html": [
       "<div>\n",
       "<style scoped>\n",
       "    .dataframe tbody tr th:only-of-type {\n",
       "        vertical-align: middle;\n",
       "    }\n",
       "\n",
       "    .dataframe tbody tr th {\n",
       "        vertical-align: top;\n",
       "    }\n",
       "\n",
       "    .dataframe thead th {\n",
       "        text-align: right;\n",
       "    }\n",
       "</style>\n",
       "<table border=\"1\" class=\"dataframe\">\n",
       "  <thead>\n",
       "    <tr style=\"text-align: right;\">\n",
       "      <th></th>\n",
       "      <th>Customers</th>\n",
       "      <th>Open</th>\n",
       "      <th>Promo</th>\n",
       "      <th>Sales</th>\n",
       "      <th>StateHoliday</th>\n",
       "      <th>weekdays</th>\n",
       "      <th>weekends</th>\n",
       "      <th>DayOfWeek</th>\n",
       "    </tr>\n",
       "  </thead>\n",
       "  <tbody>\n",
       "    <tr>\n",
       "      <th>0</th>\n",
       "      <td>0.407489</td>\n",
       "      <td>1.0</td>\n",
       "      <td>1.0</td>\n",
       "      <td>0.433633</td>\n",
       "      <td>0.000000</td>\n",
       "      <td>0.0</td>\n",
       "      <td>1.0</td>\n",
       "      <td>5</td>\n",
       "    </tr>\n",
       "    <tr>\n",
       "      <th>1</th>\n",
       "      <td>0.400881</td>\n",
       "      <td>1.0</td>\n",
       "      <td>1.0</td>\n",
       "      <td>0.413611</td>\n",
       "      <td>0.000000</td>\n",
       "      <td>1.0</td>\n",
       "      <td>0.0</td>\n",
       "      <td>4</td>\n",
       "    </tr>\n",
       "    <tr>\n",
       "      <th>2</th>\n",
       "      <td>0.383994</td>\n",
       "      <td>1.0</td>\n",
       "      <td>1.0</td>\n",
       "      <td>0.394002</td>\n",
       "      <td>0.000000</td>\n",
       "      <td>1.0</td>\n",
       "      <td>0.0</td>\n",
       "      <td>3</td>\n",
       "    </tr>\n",
       "    <tr>\n",
       "      <th>3</th>\n",
       "      <td>0.411160</td>\n",
       "      <td>1.0</td>\n",
       "      <td>1.0</td>\n",
       "      <td>0.412870</td>\n",
       "      <td>0.000000</td>\n",
       "      <td>1.0</td>\n",
       "      <td>0.0</td>\n",
       "      <td>2</td>\n",
       "    </tr>\n",
       "    <tr>\n",
       "      <th>4</th>\n",
       "      <td>0.449339</td>\n",
       "      <td>1.0</td>\n",
       "      <td>1.0</td>\n",
       "      <td>0.502760</td>\n",
       "      <td>0.000000</td>\n",
       "      <td>1.0</td>\n",
       "      <td>0.0</td>\n",
       "      <td>1</td>\n",
       "    </tr>\n",
       "    <tr>\n",
       "      <th>...</th>\n",
       "      <td>...</td>\n",
       "      <td>...</td>\n",
       "      <td>...</td>\n",
       "      <td>...</td>\n",
       "      <td>...</td>\n",
       "      <td>...</td>\n",
       "      <td>...</td>\n",
       "      <td>...</td>\n",
       "    </tr>\n",
       "    <tr>\n",
       "      <th>1014562</th>\n",
       "      <td>0.248899</td>\n",
       "      <td>1.0</td>\n",
       "      <td>0.0</td>\n",
       "      <td>0.393095</td>\n",
       "      <td>0.000000</td>\n",
       "      <td>0.0</td>\n",
       "      <td>1.0</td>\n",
       "      <td>6</td>\n",
       "    </tr>\n",
       "    <tr>\n",
       "      <th>1014563</th>\n",
       "      <td>0.239354</td>\n",
       "      <td>1.0</td>\n",
       "      <td>0.0</td>\n",
       "      <td>0.374063</td>\n",
       "      <td>0.000000</td>\n",
       "      <td>0.0</td>\n",
       "      <td>1.0</td>\n",
       "      <td>5</td>\n",
       "    </tr>\n",
       "    <tr>\n",
       "      <th>1014564</th>\n",
       "      <td>0.220264</td>\n",
       "      <td>1.0</td>\n",
       "      <td>0.0</td>\n",
       "      <td>0.354041</td>\n",
       "      <td>0.000000</td>\n",
       "      <td>1.0</td>\n",
       "      <td>0.0</td>\n",
       "      <td>4</td>\n",
       "    </tr>\n",
       "    <tr>\n",
       "      <th>1014565</th>\n",
       "      <td>0.223935</td>\n",
       "      <td>1.0</td>\n",
       "      <td>0.0</td>\n",
       "      <td>0.304606</td>\n",
       "      <td>0.000000</td>\n",
       "      <td>1.0</td>\n",
       "      <td>0.0</td>\n",
       "      <td>3</td>\n",
       "    </tr>\n",
       "    <tr>\n",
       "      <th>1014566</th>\n",
       "      <td>0.000000</td>\n",
       "      <td>0.0</td>\n",
       "      <td>0.0</td>\n",
       "      <td>0.000000</td>\n",
       "      <td>0.333333</td>\n",
       "      <td>1.0</td>\n",
       "      <td>0.0</td>\n",
       "      <td>2</td>\n",
       "    </tr>\n",
       "  </tbody>\n",
       "</table>\n",
       "<p>1014567 rows × 8 columns</p>\n",
       "</div>"
      ],
      "text/plain": [
       "         Customers  Open  Promo     Sales  StateHoliday  weekdays  weekends  \\\n",
       "0         0.407489   1.0    1.0  0.433633      0.000000       0.0       1.0   \n",
       "1         0.400881   1.0    1.0  0.413611      0.000000       1.0       0.0   \n",
       "2         0.383994   1.0    1.0  0.394002      0.000000       1.0       0.0   \n",
       "3         0.411160   1.0    1.0  0.412870      0.000000       1.0       0.0   \n",
       "4         0.449339   1.0    1.0  0.502760      0.000000       1.0       0.0   \n",
       "...            ...   ...    ...       ...           ...       ...       ...   \n",
       "1014562   0.248899   1.0    0.0  0.393095      0.000000       0.0       1.0   \n",
       "1014563   0.239354   1.0    0.0  0.374063      0.000000       0.0       1.0   \n",
       "1014564   0.220264   1.0    0.0  0.354041      0.000000       1.0       0.0   \n",
       "1014565   0.223935   1.0    0.0  0.304606      0.000000       1.0       0.0   \n",
       "1014566   0.000000   0.0    0.0  0.000000      0.333333       1.0       0.0   \n",
       "\n",
       "         DayOfWeek  \n",
       "0                5  \n",
       "1                4  \n",
       "2                3  \n",
       "3                2  \n",
       "4                1  \n",
       "...            ...  \n",
       "1014562          6  \n",
       "1014563          5  \n",
       "1014564          4  \n",
       "1014565          3  \n",
       "1014566          2  \n",
       "\n",
       "[1014567 rows x 8 columns]"
      ]
     },
     "execution_count": 23,
     "metadata": {},
     "output_type": "execute_result"
    }
   ],
   "source": [
    "train_transformed  = pd.concat([train_df_no_datetime,train_df[separate_columns(train_df)[1]]],axis=1)\n",
    "\n",
    "# test_transformed = pd.concat([test_df_no_datetime,train_df[separate_columns(test_df)[1]]],axis=1)\n",
    "train_transformed"
   ]
  },
  {
   "cell_type": "code",
   "execution_count": 24,
   "id": "492aea23",
   "metadata": {},
   "outputs": [],
   "source": [
    "train_transformed_ = train_transformed.sample(100000)"
   ]
  },
  {
   "cell_type": "code",
   "execution_count": null,
   "id": "2e3a5d55",
   "metadata": {},
   "outputs": [],
   "source": []
  },
  {
   "cell_type": "markdown",
   "id": "87c3f69d",
   "metadata": {},
   "source": [
    "# Modelling "
   ]
  },
  {
   "cell_type": "code",
   "execution_count": 25,
   "id": "cdb6ecfd",
   "metadata": {},
   "outputs": [],
   "source": [
    "m = modeler()"
   ]
  },
  {
   "cell_type": "markdown",
   "id": "362df039",
   "metadata": {},
   "source": [
    "###### Random forest  "
   ]
  },
  {
   "cell_type": "code",
   "execution_count": 26,
   "id": "b371586a",
   "metadata": {},
   "outputs": [],
   "source": [
    "#### split the data\n",
    "X_train, X_test, X_val, y_train, y_test,y_val = m.split_data(train_transformed_,'Sales')"
   ]
  },
  {
   "cell_type": "code",
   "execution_count": 27,
   "id": "208b7f5d",
   "metadata": {},
   "outputs": [],
   "source": [
    "def eval_metrics(actual, pred):\n",
    "    rmse = np.sqrt(mean_squared_error(actual, pred))\n",
    "    mae = mean_absolute_error(actual, pred)\n",
    "    r2 = r2_score(actual, pred)\n",
    "    return rmse, mae, r2"
   ]
  },
  {
   "cell_type": "code",
   "execution_count": 28,
   "id": "c1ff84cd",
   "metadata": {},
   "outputs": [],
   "source": [
    "estimators = 25\n",
    "depth = 15\n",
    "with mlflow.start_run():\n",
    "    RandomForest_pipeline=Pipeline([\n",
    "                         ('imputer', SimpleImputer(strategy='mean')),\n",
    "                        ('scaler',StandardScaler()),\n",
    "                         ('rf_regressor',RandomForestRegressor( n_estimators=estimators,\n",
    "                                    max_depth=depth,\n",
    "                                    min_samples_split=2,\n",
    "                                    min_samples_leaf=1))])\n",
    "    \n",
    "    rf_model = RandomForest_pipeline.fit(X_train,y_train)\n",
    "    y_pred = rf_model.predict(X_test)\n",
    "    (rmse, mae, r2) = eval_metrics(y_test, y_pred)\n",
    "\n",
    "    mlflow.log_param(\"number of estimators\", estimators)\n",
    "    mlflow.log_param(\"maximum depth\", depth)\n",
    "    mlflow.log_metric(\"rmse\", rmse)\n",
    "    mlflow.log_metric(\"r2\", r2)\n",
    "    mlflow.log_metric(\"mae\", mae)\n",
    "    \n",
    "    mlflow.sklearn.log_model(rf_model,\"Regressor model\")"
   ]
  },
  {
   "cell_type": "code",
   "execution_count": 29,
   "id": "086f2471",
   "metadata": {},
   "outputs": [],
   "source": [
    "rf_model = RandomForest_pipeline.fit(X_train,y_train)\n"
   ]
  },
  {
   "cell_type": "code",
   "execution_count": 30,
   "id": "ff9b3d11",
   "metadata": {},
   "outputs": [
    {
     "data": {
      "text/plain": [
       "0.8279873623380095"
      ]
     },
     "execution_count": 30,
     "metadata": {},
     "output_type": "execute_result"
    }
   ],
   "source": [
    "rf_model.score(X_test,y_test)"
   ]
  },
  {
   "cell_type": "markdown",
   "id": "b03b284d",
   "metadata": {},
   "source": [
    "##### Feature importance "
   ]
  },
  {
   "cell_type": "code",
   "execution_count": 31,
   "id": "cdbd209e",
   "metadata": {},
   "outputs": [
    {
     "data": {
      "image/png": "[encoded data removed]",
      "text/plain": [
       "<Figure size 432x288 with 1 Axes>"
      ]
     },
     "metadata": {},
     "output_type": "display_data"
    },
    {
     "data": {
      "text/plain": [
       "Customers       9.701747e-01\n",
       "DayOfWeek       1.055997e-02\n",
       "Open            3.823709e-09\n",
       "Promo           1.672102e-02\n",
       "StateHoliday    2.455926e-04\n",
       "weekdays        1.069111e-03\n",
       "weekends        1.229563e-03\n",
       "dtype: float64"
      ]
     },
     "execution_count": 31,
     "metadata": {},
     "output_type": "execute_result"
    }
   ],
   "source": [
    "#feature importance \n",
    "m.feature_importance(RandomForestRegressor,train_transformed_,'Sales')"
   ]
  },
  {
   "cell_type": "markdown",
   "id": "141e0872",
   "metadata": {},
   "source": [
    "`Customers` is the most important features "
   ]
  },
  {
   "cell_type": "markdown",
   "id": "4cb2ef4a",
   "metadata": {},
   "source": [
    "###### serialize the model"
   ]
  },
  {
   "cell_type": "markdown",
   "id": "0945b4c4",
   "metadata": {},
   "source": [
    "To serve the models you built above, you need to serialize them. Save the model with the timestamp(eg. 10-08-2020-16-32-31-00.pkl). This is necessary so that you can track predictions from various models.\n"
   ]
  },
  {
   "cell_type": "code",
   "execution_count": 32,
   "id": "68394002",
   "metadata": {},
   "outputs": [
    {
     "data": {
      "text/plain": [
       "'../models/2022-06-17-12-37-12.pkl'"
      ]
     },
     "execution_count": 32,
     "metadata": {},
     "output_type": "execute_result"
    }
   ],
   "source": [
    "#creating a file name using the created time\n",
    "filename = '../models/' + datetime.now().strftime(\"%Y-%m-%d-%H-%M-%S\") + '.pkl'\n",
    "filename"
   ]
  },
  {
   "cell_type": "code",
   "execution_count": 33,
   "id": "84f6da18",
   "metadata": {},
   "outputs": [],
   "source": [
    "with open(filename,'wb') as f:\n",
    "    pickle.dump(rf_model,f)"
   ]
  }
 ],
 "metadata": {
  "kernelspec": {
   "display_name": "Python 3 (ipykernel)",
   "language": "python",
   "name": "python3"
  },
  "language_info": {
   "codemirror_mode": {
    "name": "ipython",
    "version": 3
   },
   "file_extension": ".py",
   "mimetype": "text/x-python",
   "name": "python",
   "nbconvert_exporter": "python",
   "pygments_lexer": "ipython3",
   "version": "3.9.5"
  }
 },
 "nbformat": 4,
 "nbformat_minor": 5
}
