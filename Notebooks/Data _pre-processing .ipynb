{
 "cells": [
  {
   "cell_type": "code",
   "execution_count": 1,
   "id": "bcdc9256",
   "metadata": {},
   "outputs": [],
   "source": [
    "import warnings\n",
    "import pandas as pd \n",
    "import numpy as np\n",
    "import sys\n",
    "sys.path.append(\"..\")\n",
    "warnings.simplefilter(\"ignore\")\n",
    "from Scripts.Data_cleaning import load_data,clean_data\n",
    "from Scripts.preprocessing import preprocess"
   ]
  },
  {
   "cell_type": "markdown",
   "id": "324cafd6",
   "metadata": {},
   "source": [
    "It is important to process the data into a format where it can be fed to a machine learning model. This typically means converting all non-numeric columns to numeric, handling NaN values and generating new features from already existing features. "
   ]
  },
  {
   "cell_type": "markdown",
   "id": "7f02a9dd",
   "metadata": {},
   "source": [
    "###### Load datasets "
   ]
  },
  {
   "cell_type": "code",
   "execution_count": 2,
   "id": "3d1d5d6a",
   "metadata": {},
   "outputs": [],
   "source": [
    "train_df = load_data('../data/train-data.csv')\n",
    "test_df = load_data('../data/test-data.csv')"
   ]
  },
  {
   "cell_type": "markdown",
   "id": "15ddab34",
   "metadata": {},
   "source": [
    "###### missing values "
   ]
  },
  {
   "cell_type": "code",
   "execution_count": 3,
   "id": "772e7a7c",
   "metadata": {},
   "outputs": [
    {
     "data": {
      "text/plain": [
       "Store                        0\n",
       "StoreType                    0\n",
       "Assortment                   0\n",
       "CompetitionDistance          0\n",
       "CompetitionOpenSinceMonth    0\n",
       "CompetitionOpenSinceYear     0\n",
       "Promo2                       0\n",
       "Promo2SinceWeek              0\n",
       "Promo2SinceYear              0\n",
       "PromoInterval                0\n",
       "DayOfWeek                    0\n",
       "Date                         0\n",
       "Sales                        0\n",
       "Customers                    0\n",
       "Open                         0\n",
       "Promo                        0\n",
       "StateHoliday                 0\n",
       "SchoolHoliday                0\n",
       "Days                         0\n",
       "months                       0\n",
       "Years                        0\n",
       "DayOfYear                    0\n",
       "WeekOfYear                   0\n",
       "dtype: int64"
      ]
     },
     "execution_count": 3,
     "metadata": {},
     "output_type": "execute_result"
    }
   ],
   "source": [
    "train_df.isna().sum()"
   ]
  },
  {
   "cell_type": "code",
   "execution_count": 4,
   "id": "4c5c21b0",
   "metadata": {},
   "outputs": [
    {
     "name": "stdout",
     "output_type": "stream",
     "text": [
      "<class 'pandas.core.frame.DataFrame'>\n",
      "RangeIndex: 1014567 entries, 0 to 1014566\n",
      "Data columns (total 23 columns):\n",
      " #   Column                     Non-Null Count    Dtype  \n",
      "---  ------                     --------------    -----  \n",
      " 0   Store                      1014567 non-null  int64  \n",
      " 1   StoreType                  1014567 non-null  object \n",
      " 2   Assortment                 1014567 non-null  object \n",
      " 3   CompetitionDistance        1014567 non-null  float64\n",
      " 4   CompetitionOpenSinceMonth  1014567 non-null  int64  \n",
      " 5   CompetitionOpenSinceYear   1014567 non-null  int64  \n",
      " 6   Promo2                     1014567 non-null  int64  \n",
      " 7   Promo2SinceWeek            1014567 non-null  int64  \n",
      " 8   Promo2SinceYear            1014567 non-null  int64  \n",
      " 9   PromoInterval              1014567 non-null  object \n",
      " 10  DayOfWeek                  1014567 non-null  int64  \n",
      " 11  Date                       1014567 non-null  object \n",
      " 12  Sales                      1014567 non-null  float64\n",
      " 13  Customers                  1014567 non-null  float64\n",
      " 14  Open                       1014567 non-null  int64  \n",
      " 15  Promo                      1014567 non-null  int64  \n",
      " 16  StateHoliday               1014567 non-null  object \n",
      " 17  SchoolHoliday              1014567 non-null  int64  \n",
      " 18  Days                       1014567 non-null  int64  \n",
      " 19  months                     1014567 non-null  int64  \n",
      " 20  Years                      1014567 non-null  int64  \n",
      " 21  DayOfYear                  1014567 non-null  int64  \n",
      " 22  WeekOfYear                 1014567 non-null  int64  \n",
      "dtypes: float64(3), int64(15), object(5)\n",
      "memory usage: 178.0+ MB\n"
     ]
    }
   ],
   "source": [
    "train_df.info()"
   ]
  },
  {
   "cell_type": "code",
   "execution_count": 5,
   "id": "3d6ae279",
   "metadata": {},
   "outputs": [
    {
     "data": {
      "text/plain": [
       "Store                        0\n",
       "StoreType                    0\n",
       "Assortment                   0\n",
       "CompetitionDistance          0\n",
       "CompetitionOpenSinceMonth    0\n",
       "CompetitionOpenSinceYear     0\n",
       "Promo2                       0\n",
       "Promo2SinceWeek              0\n",
       "Promo2SinceYear              0\n",
       "PromoInterval                0\n",
       "Id                           0\n",
       "DayOfWeek                    0\n",
       "Date                         0\n",
       "Open                         0\n",
       "Promo                        0\n",
       "StateHoliday                 0\n",
       "SchoolHoliday                0\n",
       "Days                         0\n",
       "months                       0\n",
       "Years                        0\n",
       "DayOfYear                    0\n",
       "WeekOfYear                   0\n",
       "dtype: int64"
      ]
     },
     "execution_count": 5,
     "metadata": {},
     "output_type": "execute_result"
    }
   ],
   "source": [
    "test_df.isna().sum()"
   ]
  },
  {
   "cell_type": "markdown",
   "id": "43388a12",
   "metadata": {},
   "source": [
    "##### converting date column to datetime "
   ]
  },
  {
   "cell_type": "code",
   "execution_count": 6,
   "id": "28e66940",
   "metadata": {},
   "outputs": [],
   "source": [
    "c = clean_data(train_df)\n",
    "c.convert_to_datetime(train_df,['Date'])"
   ]
  },
  {
   "cell_type": "code",
   "execution_count": 7,
   "id": "3db74ccf",
   "metadata": {},
   "outputs": [],
   "source": [
    "d = clean_data(test_df)\n",
    "d.convert_to_datetime(test_df,['Date'])"
   ]
  },
  {
   "cell_type": "markdown",
   "id": "53d6b815",
   "metadata": {},
   "source": [
    "###### converting non-numeric to numeric"
   ]
  },
  {
   "cell_type": "code",
   "execution_count": 8,
   "id": "191e6a07",
   "metadata": {},
   "outputs": [],
   "source": [
    "r = preprocess(train_df)\n",
    "r.label_encoder(train_df)"
   ]
  },
  {
   "cell_type": "code",
   "execution_count": 9,
   "id": "eda36627",
   "metadata": {},
   "outputs": [
    {
     "data": {
      "text/plain": [
       "False"
      ]
     },
     "execution_count": 9,
     "metadata": {},
     "output_type": "execute_result"
    }
   ],
   "source": [
    "train_df.info == 'object'"
   ]
  },
  {
   "cell_type": "code",
   "execution_count": 10,
   "id": "b8913440",
   "metadata": {},
   "outputs": [
    {
     "data": {
      "text/plain": [
       "array([0, 1, 2, 3], dtype=int64)"
      ]
     },
     "execution_count": 10,
     "metadata": {},
     "output_type": "execute_result"
    }
   ],
   "source": [
    "train_df['StoreType'].unique()"
   ]
  },
  {
   "cell_type": "markdown",
   "id": "847ec532",
   "metadata": {},
   "source": [
    "all columns in train data have been converted to numeric "
   ]
  },
  {
   "cell_type": "code",
   "execution_count": 11,
   "id": "9b3b1aef",
   "metadata": {},
   "outputs": [],
   "source": [
    "t = preprocess(test_df)\n",
    "t.label_encoder(test_df)"
   ]
  },
  {
   "cell_type": "code",
   "execution_count": 12,
   "id": "2503af12",
   "metadata": {},
   "outputs": [
    {
     "data": {
      "text/plain": [
       "False"
      ]
     },
     "execution_count": 12,
     "metadata": {},
     "output_type": "execute_result"
    }
   ],
   "source": [
    "test_df.info == 'object'"
   ]
  },
  {
   "cell_type": "markdown",
   "id": "c4fbe844",
   "metadata": {},
   "source": [
    "all columns in test data have been converted to numeric "
   ]
  },
  {
   "cell_type": "markdown",
   "id": "23ccd216",
   "metadata": {},
   "source": [
    "###### feature engineering "
   ]
  },
  {
   "cell_type": "code",
   "execution_count": 13,
   "id": "182d5c73",
   "metadata": {},
   "outputs": [],
   "source": [
    "def feat_eng(df):\n",
    "    df['DayOfweek'] = df['Date'].dt.weekday\n",
    "    df['weekends'] = (df['DayOfweek']//5 ==1).astype(int)\n",
    "    df['weekdays'] = (df['DayOfweek']//5 !=1).astype(int)"
   ]
  },
  {
   "cell_type": "code",
   "execution_count": 14,
   "id": "23ccf165",
   "metadata": {},
   "outputs": [],
   "source": [
    "feat_eng(train_df)"
   ]
  },
  {
   "cell_type": "code",
   "execution_count": 15,
   "id": "0fcf5f74",
   "metadata": {},
   "outputs": [],
   "source": [
    "feat_eng(test_df)"
   ]
  },
  {
   "cell_type": "markdown",
   "id": "deb286b8",
   "metadata": {},
   "source": [
    "###### feature scaling"
   ]
  },
  {
   "cell_type": "code",
   "execution_count": null,
   "id": "5ca0f8c4",
   "metadata": {},
   "outputs": [],
   "source": []
  }
 ],
 "metadata": {
  "kernelspec": {
   "display_name": "Python 3",
   "language": "python",
   "name": "python3"
  },
  "language_info": {
   "codemirror_mode": {
    "name": "ipython",
    "version": 3
   },
   "file_extension": ".py",
   "mimetype": "text/x-python",
   "name": "python",
   "nbconvert_exporter": "python",
   "pygments_lexer": "ipython3",
   "version": "3.8.8"
  }
 },
 "nbformat": 4,
 "nbformat_minor": 5
}
