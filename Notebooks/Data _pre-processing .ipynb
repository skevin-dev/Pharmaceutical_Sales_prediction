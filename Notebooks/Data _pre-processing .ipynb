{
 "cells": [
  {
   "cell_type": "code",
   "execution_count": 1,
   "id": "2f3bb124",
   "metadata": {},
   "outputs": [],
   "source": [
    "import warnings\n",
    "import pandas as pd \n",
    "import numpy as np\n",
    "import sys\n",
    "sys.path.append(\"..\")\n",
    "warnings.simplefilter(\"ignore\")\n",
    "from Scripts.Data_cleaning import load_data,clean_data"
   ]
  },
  {
   "cell_type": "markdown",
   "id": "dd43c2cb",
   "metadata": {},
   "source": [
    "It is important to process the data into a format where it can be fed to a machine learning model. This typically means converting all non-numeric columns to numeric, handling NaN values and generating new features from already existing features. "
   ]
  },
  {
   "cell_type": "markdown",
   "id": "7238d96b",
   "metadata": {},
   "source": [
    "###### Load datasets "
   ]
  },
  {
   "cell_type": "code",
   "execution_count": 3,
   "id": "b6d65395",
   "metadata": {},
   "outputs": [],
   "source": [
    "train_df = load_data('../data/train-data.csv')\n",
    "test_df = load_data('../data/test-data.csv')"
   ]
  },
  {
   "cell_type": "code",
   "execution_count": null,
   "id": "0b86e720",
   "metadata": {},
   "outputs": [],
   "source": []
  }
 ],
 "metadata": {
  "kernelspec": {
   "display_name": "Python 3",
   "language": "python",
   "name": "python3"
  },
  "language_info": {
   "codemirror_mode": {
    "name": "ipython",
    "version": 3
   },
   "file_extension": ".py",
   "mimetype": "text/x-python",
   "name": "python",
   "nbconvert_exporter": "python",
   "pygments_lexer": "ipython3",
   "version": "3.8.8"
  }
 },
 "nbformat": 4,
 "nbformat_minor": 5
}
