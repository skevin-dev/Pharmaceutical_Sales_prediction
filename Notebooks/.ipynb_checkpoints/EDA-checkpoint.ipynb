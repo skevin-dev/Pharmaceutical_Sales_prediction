{
 "cells": [
  {
   "cell_type": "code",
   "execution_count": 1,
   "id": "e801af87",
   "metadata": {},
   "outputs": [],
   "source": [
    "import warnings\n",
    "import pandas as pd \n",
    "import numpy as np\n",
    "import sys\n",
    "sys.path.append(\"..\")\n",
    "warnings.filterwarnings('ignore')\n",
    "from Scripts.Data_cleaning import load_data,clean_data\n",
    "from Scripts.data_visualization import Data_visualiz"
   ]
  },
  {
   "cell_type": "markdown",
   "id": "9e4aa5cd",
   "metadata": {},
   "source": [
    "###### Load datasets"
   ]
  },
  {
   "cell_type": "code",
   "execution_count": 2,
   "id": "6ac32a75",
   "metadata": {},
   "outputs": [
    {
     "ename": "NameError",
     "evalue": "name 'load_data' is not defined",
     "output_type": "error",
     "traceback": [
      "\u001b[1;31m---------------------------------------------------------------------------\u001b[0m",
      "\u001b[1;31mNameError\u001b[0m                                 Traceback (most recent call last)",
      "\u001b[1;32m<ipython-input-2-17b60a4ae209>\u001b[0m in \u001b[0;36m<module>\u001b[1;34m\u001b[0m\n\u001b[1;32m----> 1\u001b[1;33m \u001b[0mtrain\u001b[0m \u001b[1;33m=\u001b[0m \u001b[0mload_data\u001b[0m\u001b[1;33m(\u001b[0m\u001b[1;34m'../data/train-data.csv'\u001b[0m\u001b[1;33m)\u001b[0m\u001b[1;33m\u001b[0m\u001b[1;33m\u001b[0m\u001b[0m\n\u001b[0m\u001b[0;32m      2\u001b[0m \u001b[0mtest\u001b[0m \u001b[1;33m=\u001b[0m \u001b[0mload_data\u001b[0m\u001b[1;33m(\u001b[0m\u001b[1;34m'../data/test-data.csv'\u001b[0m\u001b[1;33m)\u001b[0m\u001b[1;33m\u001b[0m\u001b[1;33m\u001b[0m\u001b[0m\n",
      "\u001b[1;31mNameError\u001b[0m: name 'load_data' is not defined"
     ]
    }
   ],
   "source": [
    "train = load_data('../data/train-data.csv')\n",
    "test = load_data('../data/test-data.csv')"
   ]
  },
  {
   "cell_type": "code",
   "execution_count": null,
   "id": "6bfb3f98",
   "metadata": {},
   "outputs": [],
   "source": [
    "train.head()"
   ]
  },
  {
   "cell_type": "code",
   "execution_count": null,
   "id": "972d02ac",
   "metadata": {},
   "outputs": [],
   "source": [
    "test.head()"
   ]
  },
  {
   "cell_type": "code",
   "execution_count": null,
   "id": "7d336a09",
   "metadata": {},
   "outputs": [],
   "source": [
    "clean_data(train).convert_to_datetime(train,['Date'])\n",
    "clean_data(test).convert_to_datetime(test,['Date'])\n"
   ]
  },
  {
   "cell_type": "code",
   "execution_count": null,
   "id": "895dfd95",
   "metadata": {},
   "outputs": [],
   "source": [
    "D = Data_visualiz()"
   ]
  },
  {
   "cell_type": "markdown",
   "id": "ef194b17",
   "metadata": {},
   "source": [
    "##### Graphical analysis"
   ]
  },
  {
   "cell_type": "markdown",
   "id": "a5b9e115",
   "metadata": {},
   "source": [
    "###### distribution for train "
   ]
  },
  {
   "cell_type": "code",
   "execution_count": null,
   "id": "13557d75",
   "metadata": {},
   "outputs": [],
   "source": [
    "D.histogram(train)"
   ]
  },
  {
   "cell_type": "code",
   "execution_count": null,
   "id": "d21c6a35",
   "metadata": {},
   "outputs": [],
   "source": [
    "D.histogram(test)"
   ]
  },
  {
   "cell_type": "markdown",
   "id": "9fa92b7a",
   "metadata": {},
   "source": [
    "###### Timeseries  "
   ]
  },
  {
   "cell_type": "code",
   "execution_count": null,
   "id": "026250e8",
   "metadata": {},
   "outputs": [],
   "source": [
    "D.plot(train,'Date','Sales')"
   ]
  },
  {
   "cell_type": "code",
   "execution_count": null,
   "id": "0778f09d",
   "metadata": {},
   "outputs": [],
   "source": [
    "# resampling the dataset by month \n",
    "df_ = train.set_index('Date')\n",
    "df_ = df_.resample('M').mean().reset_index()\n",
    "D.plot(df_,'Date','Sales');"
   ]
  },
  {
   "cell_type": "markdown",
   "id": "016ccd33",
   "metadata": {},
   "source": [
    "##### non-graphical analysis"
   ]
  },
  {
   "cell_type": "markdown",
   "id": "1aa1519e",
   "metadata": {},
   "source": [
    "Analysing the sales behavoir in holidays and non holidays"
   ]
  },
  {
   "cell_type": "code",
   "execution_count": null,
   "id": "b21dcc06",
   "metadata": {},
   "outputs": [],
   "source": [
    "#non holidays\n",
    "df_holiday = train[train['StateHoliday'] != '0']\n",
    "df_holiday.describe()['Sales']"
   ]
  },
  {
   "cell_type": "code",
   "execution_count": null,
   "id": "ba73cc3c",
   "metadata": {},
   "outputs": [],
   "source": [
    "#holidays \n",
    "df_non_holidays = train[train['StateHoliday'] == '0']\n",
    "df_non_holidays.describe()['Sales']"
   ]
  },
  {
   "cell_type": "code",
   "execution_count": null,
   "id": "e012dfd2",
   "metadata": {},
   "outputs": [],
   "source": []
  }
 ],
 "metadata": {
  "kernelspec": {
   "display_name": "Python 3",
   "language": "python",
   "name": "python3"
  },
  "language_info": {
   "codemirror_mode": {
    "name": "ipython",
    "version": 3
   },
   "file_extension": ".py",
   "mimetype": "text/x-python",
   "name": "python",
   "nbconvert_exporter": "python",
   "pygments_lexer": "ipython3",
   "version": "3.8.8"
  }
 },
 "nbformat": 4,
 "nbformat_minor": 5
}
